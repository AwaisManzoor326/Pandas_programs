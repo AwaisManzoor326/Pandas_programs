{
 "cells": [
  {
   "cell_type": "code",
   "id": "initial_id",
   "metadata": {
    "collapsed": true,
    "ExecuteTime": {
     "end_time": "2025-09-08T15:38:44.826381Z",
     "start_time": "2025-09-08T15:38:44.039985Z"
    }
   },
   "source": "import pandas",
   "outputs": [],
   "execution_count": 1
  },
  {
   "metadata": {
    "ExecuteTime": {
     "end_time": "2025-09-08T15:43:10.361787Z",
     "start_time": "2025-09-08T15:43:10.355805Z"
    }
   },
   "cell_type": "code",
   "source": [
    "arr = [1, 7, 2, 5, 1, 9]\n",
    "series = pandas.Series(arr)\n",
    "print(series)"
   ],
   "id": "ce8c07dbd75ab199",
   "outputs": [
    {
     "name": "stdout",
     "output_type": "stream",
     "text": [
      "0    1\n",
      "1    7\n",
      "2    2\n",
      "3    5\n",
      "4    1\n",
      "5    9\n",
      "dtype: int64\n"
     ]
    }
   ],
   "execution_count": 5
  },
  {
   "metadata": {
    "ExecuteTime": {
     "end_time": "2025-09-08T15:42:16.681888Z",
     "start_time": "2025-09-08T15:42:16.677551Z"
    }
   },
   "cell_type": "code",
   "source": [
    "# pandas series is like columns in a table\n",
    "# it is one dimensional array holdingdata of any type\n"
   ],
   "id": "9223419c095e8189",
   "outputs": [],
   "execution_count": 3
  },
  {
   "metadata": {
    "ExecuteTime": {
     "end_time": "2025-09-08T15:48:33.190342Z",
     "start_time": "2025-09-08T15:48:33.175459Z"
    }
   },
   "cell_type": "code",
   "source": [
    "arr = [1, 7, 2, 5, 1, 9]\n",
    "# we can do custom indexing\n",
    "# these are called labels\n",
    "series = pandas.Series(arr, index=['a', 'b', 'c', 'd', 'e', 'f'])\n",
    "print(series)"
   ],
   "id": "7374306d7c2669d7",
   "outputs": [
    {
     "name": "stdout",
     "output_type": "stream",
     "text": [
      "a    1\n",
      "b    7\n",
      "c    2\n",
      "d    5\n",
      "e    1\n",
      "f    9\n",
      "dtype: int64\n"
     ]
    }
   ],
   "execution_count": 7
  },
  {
   "metadata": {
    "ExecuteTime": {
     "end_time": "2025-09-08T15:49:54.613189Z",
     "start_time": "2025-09-08T15:49:54.608685Z"
    }
   },
   "cell_type": "code",
   "source": [
    "# we can also do indexing\n",
    "print(series['d'])"
   ],
   "id": "1c0ae2b63a5ef8ce",
   "outputs": [
    {
     "name": "stdout",
     "output_type": "stream",
     "text": [
      "5\n"
     ]
    }
   ],
   "execution_count": 11
  },
  {
   "metadata": {
    "ExecuteTime": {
     "end_time": "2025-09-08T15:55:47.365103Z",
     "start_time": "2025-09-08T15:55:47.356676Z"
    }
   },
   "cell_type": "code",
   "source": [
    "# create a simple pandas series from python dictionary\n",
    "dict = {\n",
    "    'day1' : 'Monday',\n",
    "    'day2' : 'Tuesday',\n",
    "    'day3' : 'Wednesday',\n",
    "    'day4' : 'Thursday',\n",
    "    'day5' : 'Friday',\n",
    "    'day6' : 'Saturday',\n",
    "    'day7' : 'Sunday',\n",
    "}\n",
    "# To select only some of the items in the dictionary, use the index argument and specify only the items you want to include in the Series.\n",
    "series = pandas.Series(dict, index=['day3', 'day6'])\n",
    "print(series)\n",
    "# series = pandas.Series(dict)\n",
    "# print(series)"
   ],
   "id": "44c9e20b902cc105",
   "outputs": [
    {
     "name": "stdout",
     "output_type": "stream",
     "text": [
      "day3    Wednesday\n",
      "day6     Saturday\n",
      "dtype: object\n"
     ]
    }
   ],
   "execution_count": 18
  },
  {
   "metadata": {
    "ExecuteTime": {
     "end_time": "2025-09-08T16:01:37.071986Z",
     "start_time": "2025-09-08T16:01:37.059128Z"
    }
   },
   "cell_type": "code",
   "source": [
    "# data sets in pandas are multi dimensional tables, called data frames\n",
    "# series is like a column, data frame is whole table\n",
    "\n",
    "dict = {\n",
    "  \"calories\": [420, 380, 390],\n",
    "  \"duration\": [50, 40, 45]\n",
    "}\n",
    "\n",
    "frame = pandas.DataFrame(dict)\n",
    "print(frame)"
   ],
   "id": "dc13c06912a635b3",
   "outputs": [
    {
     "name": "stdout",
     "output_type": "stream",
     "text": [
      "   calories  duration\n",
      "0       420        50\n",
      "1       380        40\n",
      "2       390        45\n"
     ]
    }
   ],
   "execution_count": 20
  }
 ],
 "metadata": {
  "kernelspec": {
   "display_name": "Python 3",
   "language": "python",
   "name": "python3"
  },
  "language_info": {
   "codemirror_mode": {
    "name": "ipython",
    "version": 2
   },
   "file_extension": ".py",
   "mimetype": "text/x-python",
   "name": "python",
   "nbconvert_exporter": "python",
   "pygments_lexer": "ipython2",
   "version": "2.7.6"
  }
 },
 "nbformat": 4,
 "nbformat_minor": 5
}
