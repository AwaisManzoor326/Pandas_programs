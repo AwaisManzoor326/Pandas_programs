{
 "cells": [
  {
   "cell_type": "code",
   "execution_count": 1,
   "id": "fe64b1bf",
   "metadata": {},
   "outputs": [],
   "source": [
    "import pandas as pd"
   ]
  },
  {
   "cell_type": "markdown",
   "id": "acdd566a",
   "metadata": {},
   "source": [
    "A great aspect of the Pandas module is the corr() method.\n",
    "\n",
    "**The corr() method calculates the relationship between each column in your data set.**"
   ]
  },
  {
   "cell_type": "code",
   "execution_count": 2,
   "id": "b985c9c0",
   "metadata": {},
   "outputs": [
    {
     "name": "stdout",
     "output_type": "stream",
     "text": [
      "          Duration     Pulse  Maxpulse  Calories\n",
      "Duration  1.000000 -0.155408  0.009403  0.922717\n",
      "Pulse    -0.155408  1.000000  0.786535  0.025121\n",
      "Maxpulse  0.009403  0.786535  1.000000  0.203813\n",
      "Calories  0.922717  0.025121  0.203813  1.000000\n"
     ]
    }
   ],
   "source": [
    "df = pd.read_csv('corr_data.csv')\n",
    "print(df.corr())"
   ]
  },
  {
   "cell_type": "markdown",
   "id": "8a321119",
   "metadata": {},
   "source": [
    "**Note: The corr() method ignores \"not numeric\" columns.**"
   ]
  },
  {
   "cell_type": "markdown",
   "id": "d61ed41e",
   "metadata": {},
   "source": [
    "**Result Explained**\n",
    "\n",
    "The Result of the corr() method is a table with a lot of numbers that represents how well the relationship is between two columns.\n",
    "\n",
    "The number varies from -1 to 1.\n",
    "\n",
    "1 means that there is a 1 to 1 relationship (a perfect correlation), and for this data set, each time a value went up in the first column, the other one went up as well.\n",
    "\n",
    "0.9 is also a good relationship, and if you increase one value, the other will probably increase as well.\n",
    "\n",
    "-0.9 would be just as good relationship as 0.9, but if you increase one value, the other will probably go down.\n",
    "\n",
    "0.2 means NOT a good relationship, meaning that if one value goes up does not mean that the other will."
   ]
  },
  {
   "cell_type": "markdown",
   "id": "9fc93581",
   "metadata": {},
   "source": [
    "**What is a good correlation?** \n",
    "\n",
    "It depends on the use, but I think it is safe to say you have to have at least 0.6 (or -0.6) to call it a good correlation."
   ]
  },
  {
   "cell_type": "markdown",
   "id": "6acae596",
   "metadata": {},
   "source": [
    "**Perfect Correlation:**\n",
    "\n",
    "We can see that \"Duration\" and \"Duration\" got the number 1.000000, which makes sense, each column always has a perfect relationship with itself.\n",
    "\n",
    "\n",
    "**Good Correlation:**\n",
    "\n",
    "\"Duration\" and \"Calories\" got a 0.922721 correlation, which is a very good correlation, and we can predict that the longer you work out, the more calories you burn, and the other way around: if you burned a lot of calories, you probably had a long work out.\n",
    "\n",
    "\n",
    "**Bad Correlation:**\n",
    "\n",
    "\"Duration\" and \"Maxpulse\" got a 0.009403 correlation, which is a very bad correlation, meaning that we can not predict the max pulse by just looking at the duration of the work out, and vice versa."
   ]
  },
  {
   "cell_type": "code",
   "execution_count": 3,
   "id": "b016a522",
   "metadata": {},
   "outputs": [
    {
     "name": "stdout",
     "output_type": "stream",
     "text": [
      "             Math   Physics   English\n",
      "Math     1.000000  0.970215 -0.888509\n",
      "Physics  0.970215  1.000000 -0.887905\n",
      "English -0.888509 -0.887905  1.000000\n"
     ]
    }
   ],
   "source": [
    "data = {\n",
    "    'Math': [85, 90, 78, 92, 88],\n",
    "    'Physics': [80, 85, 75, 89, 86],\n",
    "    'English': [70, 65, 72, 60, 68]\n",
    "}\n",
    "\n",
    "df = pd.DataFrame(data)\n",
    "\n",
    "print(df.corr())  # Calculate and print the correlation matrix"
   ]
  },
  {
   "cell_type": "markdown",
   "id": "4d936d76",
   "metadata": {},
   "source": [
    "**Methods of correlation**\n",
    "\n",
    "By default pandas Pearson correlation nikalta hai, lekin aur bhi types hain:"
   ]
  },
  {
   "cell_type": "code",
   "execution_count": 6,
   "id": "db9c450b",
   "metadata": {},
   "outputs": [
    {
     "name": "stdout",
     "output_type": "stream",
     "text": [
      "         Math  Physics  English\n",
      "Math      1.0      0.9     -1.0\n",
      "Physics   0.9      1.0     -0.9\n",
      "English  -1.0     -0.9      1.0\n"
     ]
    }
   ],
   "source": [
    "# print(df.corr(method='pearson'))  # Pearson correlation (default)\n",
    "# print(df.corr(method='kendall'))\n",
    "print(df.corr(method='spearman'))"
   ]
  }
 ],
 "metadata": {
  "kernelspec": {
   "display_name": "base",
   "language": "python",
   "name": "python3"
  },
  "language_info": {
   "codemirror_mode": {
    "name": "ipython",
    "version": 3
   },
   "file_extension": ".py",
   "mimetype": "text/x-python",
   "name": "python",
   "nbconvert_exporter": "python",
   "pygments_lexer": "ipython3",
   "version": "3.13.5"
  }
 },
 "nbformat": 4,
 "nbformat_minor": 5
}
