{
 "cells": [
  {
   "cell_type": "code",
   "id": "initial_id",
   "metadata": {
    "collapsed": true,
    "ExecuteTime": {
     "end_time": "2025-09-08T16:05:06.911988Z",
     "start_time": "2025-09-08T16:05:06.045099Z"
    }
   },
   "source": "import pandas as pd",
   "outputs": [],
   "execution_count": 1
  },
  {
   "metadata": {
    "ExecuteTime": {
     "end_time": "2025-09-08T16:06:20.205560Z",
     "start_time": "2025-09-08T16:06:20.201350Z"
    }
   },
   "cell_type": "code",
   "source": [
    "# dataframes is like table consisting of rows and columns\n",
    "# or it is a 2 dimensional data structure"
   ],
   "id": "2b7c332d046b04cb",
   "outputs": [],
   "execution_count": 3
  },
  {
   "metadata": {
    "ExecuteTime": {
     "end_time": "2025-09-08T16:08:55.317426Z",
     "start_time": "2025-09-08T16:08:55.308414Z"
    }
   },
   "cell_type": "code",
   "source": [
    "data = {\n",
    "  \"calories\": [420, 380, 390],\n",
    "  \"duration\": [50, 40, 45]\n",
    "}\n",
    "\n",
    "#load data into a DataFrame object:\n",
    "df = pd.DataFrame(data)\n",
    "\n",
    "print(df)"
   ],
   "id": "70bb20ec6095a51e",
   "outputs": [
    {
     "name": "stdout",
     "output_type": "stream",
     "text": [
      "   calories  duration\n",
      "0       420        50\n",
      "1       380        40\n",
      "2       390        45\n"
     ]
    }
   ],
   "execution_count": 5
  },
  {
   "metadata": {
    "ExecuteTime": {
     "end_time": "2025-09-08T16:12:10.473098Z",
     "start_time": "2025-09-08T16:12:10.466388Z"
    }
   },
   "cell_type": "code",
   "source": [
    "# Pandas use the loc attribute to return one or more specified row(s)\n",
    "print(df.loc[2])"
   ],
   "id": "fcc219b603a788d7",
   "outputs": [
    {
     "name": "stdout",
     "output_type": "stream",
     "text": [
      "calories    390\n",
      "duration     45\n",
      "Name: 2, dtype: int64\n"
     ]
    }
   ],
   "execution_count": 8
  },
  {
   "metadata": {
    "ExecuteTime": {
     "end_time": "2025-09-08T16:13:44.489264Z",
     "start_time": "2025-09-08T16:13:44.481402Z"
    }
   },
   "cell_type": "code",
   "source": [
    " # returns a Pandas Series.\n",
    " print(df.loc[[0, 1]])  # taking list of indexes"
   ],
   "id": "64f76f012bcb9c2d",
   "outputs": [
    {
     "name": "stdout",
     "output_type": "stream",
     "text": [
      "   calories  duration\n",
      "0       420        50\n",
      "1       380        40\n"
     ]
    }
   ],
   "execution_count": 11
  },
  {
   "metadata": {
    "ExecuteTime": {
     "end_time": "2025-09-08T16:15:01.500369Z",
     "start_time": "2025-09-08T16:15:01.495777Z"
    }
   },
   "cell_type": "code",
   "source": "# When using [], the result is a Pandas DataFrame.",
   "id": "a5bf3ca48be2ab4e",
   "outputs": [],
   "execution_count": 12
  },
  {
   "metadata": {
    "ExecuteTime": {
     "end_time": "2025-09-08T16:16:28.851831Z",
     "start_time": "2025-09-08T16:16:28.842914Z"
    }
   },
   "cell_type": "code",
   "source": [
    "# naming your own data frames\n",
    "s = pd.DataFrame(data, index=['x', 'y', 'z'])\n",
    "print(s)"
   ],
   "id": "fe3d6614e0164996",
   "outputs": [
    {
     "name": "stdout",
     "output_type": "stream",
     "text": [
      "   calories  duration\n",
      "x       420        50\n",
      "y       380        40\n",
      "z       390        45\n"
     ]
    }
   ],
   "execution_count": 14
  },
  {
   "metadata": {
    "ExecuteTime": {
     "end_time": "2025-09-08T16:19:05.565738Z",
     "start_time": "2025-09-08T16:19:05.556840Z"
    }
   },
   "cell_type": "code",
   "source": [
    "# locating named indexes\n",
    "print(s.loc['x'])\n",
    "print(s.loc[['x', 'y']])"
   ],
   "id": "9e9ef08737ebeef0",
   "outputs": [
    {
     "name": "stdout",
     "output_type": "stream",
     "text": [
      "calories    420\n",
      "duration     50\n",
      "Name: x, dtype: int64\n",
      "   calories  duration\n",
      "x       420        50\n",
      "y       380        40\n"
     ]
    }
   ],
   "execution_count": 18
  },
  {
   "metadata": {
    "ExecuteTime": {
     "end_time": "2025-09-08T16:23:31.765986Z",
     "start_time": "2025-09-08T16:23:31.636059Z"
    }
   },
   "cell_type": "code",
   "source": [
    "# If your data sets are stored in a file, Pandas can load them into a DataFrame.\n",
    "data = pd.read_csv('data.csv')\n",
    "print(data)"
   ],
   "id": "a58fc3a9fd42f82d",
   "outputs": [
    {
     "name": "stdout",
     "output_type": "stream",
     "text": [
      "   id    name  age grade\n",
      "0   1     Ali   20     A\n",
      "1   2  Ayesha   22     B\n",
      "2   3   Usman   21     A\n",
      "3   4    Sara   23     C\n",
      "4   5   Hamza   20     B\n"
     ]
    }
   ],
   "execution_count": 19
  }
 ],
 "metadata": {
  "kernelspec": {
   "display_name": "Python 3",
   "language": "python",
   "name": "python3"
  },
  "language_info": {
   "codemirror_mode": {
    "name": "ipython",
    "version": 2
   },
   "file_extension": ".py",
   "mimetype": "text/x-python",
   "name": "python",
   "nbconvert_exporter": "python",
   "pygments_lexer": "ipython2",
   "version": "2.7.6"
  }
 },
 "nbformat": 4,
 "nbformat_minor": 5
}
