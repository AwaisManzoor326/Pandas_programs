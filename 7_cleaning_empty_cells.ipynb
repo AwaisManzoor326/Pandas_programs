{
 "cells": [
  {
   "cell_type": "code",
   "id": "initial_id",
   "metadata": {
    "collapsed": true,
    "ExecuteTime": {
     "end_time": "2025-09-09T14:18:29.388822Z",
     "start_time": "2025-09-09T14:18:24.186607Z"
    }
   },
   "source": "import pandas as pd",
   "outputs": [],
   "execution_count": 1
  },
  {
   "metadata": {
    "ExecuteTime": {
     "end_time": "2025-09-09T14:20:24.218096Z",
     "start_time": "2025-09-09T14:20:24.212238Z"
    }
   },
   "cell_type": "code",
   "source": [
    "# empty cells potentially give you wrong results when you analyze data\n",
    "\n",
    "# one way to deal with empty cells is to remove that row\n",
    "# in big data removing one row will not affect much"
   ],
   "id": "9e5a181c71bc6b90",
   "outputs": [],
   "execution_count": 2
  },
  {
   "metadata": {
    "ExecuteTime": {
     "end_time": "2025-09-09T14:27:35.471652Z",
     "start_time": "2025-09-09T14:27:35.451653Z"
    }
   },
   "cell_type": "code",
   "source": [
    "df = pd.read_csv('data.csv')\n",
    "# print(df.to_string())\n",
    "new_df = df.dropna()\n",
    "print(new_df.to_string())\n",
    "# by default, dropna() method return new data frame"
   ],
   "id": "996bc83416c66972",
   "outputs": [
    {
     "name": "stdout",
     "output_type": "stream",
     "text": [
      "    Duration  Pulse  Maxpulse  Calories\n",
      "0         60    110       130     409.1\n",
      "1         60    117       145     479.0\n",
      "2         60    103       135     340.0\n",
      "3         45    109       175     282.4\n",
      "4         45    117       148     406.0\n",
      "5         60    102       127     300.0\n",
      "6         60    110       136     374.0\n",
      "7         45    104       134     253.3\n",
      "8         30    109       133     195.1\n",
      "9         60     98       124     269.0\n",
      "10        60    103       147     329.3\n",
      "11        60    100       120     250.7\n",
      "12        60    106       128     345.3\n",
      "13        60    104       132     379.3\n",
      "14        60     98       123     275.0\n",
      "15        60     98       120     215.2\n",
      "16        60    100       120     300.0\n",
      "18        60    103       123     323.0\n",
      "19        45     97       125     243.0\n",
      "20        60    108       131     364.2\n",
      "21        45    100       119     282.0\n",
      "22        60    130       101     300.0\n",
      "23        45    105       132     246.0\n",
      "24        60    102       126     334.5\n",
      "25        60    100       120     250.0\n",
      "26        60     92       118     241.0\n"
     ]
    }
   ],
   "execution_count": 5
  },
  {
   "metadata": {
    "ExecuteTime": {
     "end_time": "2025-09-09T14:31:48.843766Z",
     "start_time": "2025-09-09T14:31:48.830440Z"
    }
   },
   "cell_type": "code",
   "source": [
    "# if we want to change original data frame, we can use argument dropna(inplace=True)\n",
    "df.dropna(inplace=True)\n",
    "print(df)"
   ],
   "id": "66a704ee3594849c",
   "outputs": [
    {
     "name": "stdout",
     "output_type": "stream",
     "text": [
      "    Duration  Pulse  Maxpulse  Calories\n",
      "0         60    110       130     409.1\n",
      "1         60    117       145     479.0\n",
      "2         60    103       135     340.0\n",
      "3         45    109       175     282.4\n",
      "4         45    117       148     406.0\n",
      "5         60    102       127     300.0\n",
      "6         60    110       136     374.0\n",
      "7         45    104       134     253.3\n",
      "8         30    109       133     195.1\n",
      "9         60     98       124     269.0\n",
      "10        60    103       147     329.3\n",
      "11        60    100       120     250.7\n",
      "12        60    106       128     345.3\n",
      "13        60    104       132     379.3\n",
      "14        60     98       123     275.0\n",
      "15        60     98       120     215.2\n",
      "16        60    100       120     300.0\n",
      "18        60    103       123     323.0\n",
      "19        45     97       125     243.0\n",
      "20        60    108       131     364.2\n",
      "21        45    100       119     282.0\n",
      "22        60    130       101     300.0\n",
      "23        45    105       132     246.0\n",
      "24        60    102       126     334.5\n",
      "25        60    100       120     250.0\n",
      "26        60     92       118     241.0\n"
     ]
    }
   ],
   "execution_count": 8
  },
  {
   "metadata": {
    "ExecuteTime": {
     "end_time": "2025-09-09T14:49:26.111893Z",
     "start_time": "2025-09-09T14:49:26.096024Z"
    }
   },
   "cell_type": "code",
   "source": [
    "# another way of dealing with empty cells is to insert value in those cells instead of removing whole row\n",
    "df2 = pd.read_csv('data.csv')\n",
    "df2.fillna(1100, inplace=True)\n",
    "# df.fillna({\"Calories\": 130}, inplace=True) # to change empty cells of specified column only\n",
    "print(df2.to_string())"
   ],
   "id": "f1b112f612124fb1",
   "outputs": [
    {
     "name": "stdout",
     "output_type": "stream",
     "text": [
      "    Duration  Pulse  Maxpulse  Calories\n",
      "0         60    110       130     409.1\n",
      "1         60    117       145     479.0\n",
      "2         60    103       135     340.0\n",
      "3         45    109       175     282.4\n",
      "4         45    117       148     406.0\n",
      "5         60    102       127    1100.0\n",
      "6         60    110       136     374.0\n",
      "7         45    104       134     253.3\n",
      "8         30    109       133     195.1\n",
      "9         60     98       124     269.0\n",
      "10        60    103       147     329.3\n",
      "11        60    100       120     250.7\n",
      "12        60    106       128     345.3\n",
      "13        60    104       132    1100.0\n",
      "14        60     98       123     275.0\n",
      "15        60     98       120     215.2\n",
      "16        60    100       120     300.0\n",
      "17        45     90       112    1100.0\n",
      "18        60    103       123     323.0\n",
      "19        45     97       125     243.0\n",
      "20        60    108       131     364.2\n",
      "21        45    100       119     282.0\n",
      "22        60    130       101     300.0\n",
      "23        45    105       132     246.0\n",
      "24        60    102       126     334.5\n",
      "25        60    100       120     250.0\n",
      "26        60     92       118     241.0\n",
      "27        60    103       132    1100.0\n"
     ]
    }
   ],
   "execution_count": 11
  },
  {
   "metadata": {
    "ExecuteTime": {
     "end_time": "2025-09-09T14:50:19.026481Z",
     "start_time": "2025-09-09T14:50:19.022286Z"
    }
   },
   "cell_type": "code",
   "source": "# another practice is to set empty cells with mean, median or mode of values",
   "id": "96efc83570df64c8",
   "outputs": [],
   "execution_count": 12
  },
  {
   "metadata": {
    "ExecuteTime": {
     "end_time": "2025-09-09T14:56:27.161108Z",
     "start_time": "2025-09-09T14:56:27.144787Z"
    }
   },
   "cell_type": "code",
   "source": [
    "df3 = pd.read_csv('data.csv')\n",
    "df3_mean = df3['Calories'].mean()\n",
    "print(df3_mean)\n",
    "print(df3.fillna({'Calories': df3_mean}))"
   ],
   "id": "668d4bcfc2d93996",
   "outputs": [
    {
     "name": "stdout",
     "output_type": "stream",
     "text": [
      "304.46250000000003\n",
      "    Duration  Pulse  Maxpulse  Calories\n",
      "0         60    110       130  409.1000\n",
      "1         60    117       145  479.0000\n",
      "2         60    103       135  340.0000\n",
      "3         45    109       175  282.4000\n",
      "4         45    117       148  406.0000\n",
      "5         60    102       127  304.4625\n",
      "6         60    110       136  374.0000\n",
      "7         45    104       134  253.3000\n",
      "8         30    109       133  195.1000\n",
      "9         60     98       124  269.0000\n",
      "10        60    103       147  329.3000\n",
      "11        60    100       120  250.7000\n",
      "12        60    106       128  345.3000\n",
      "13        60    104       132  304.4625\n",
      "14        60     98       123  275.0000\n",
      "15        60     98       120  215.2000\n",
      "16        60    100       120  300.0000\n",
      "17        45     90       112  304.4625\n",
      "18        60    103       123  323.0000\n",
      "19        45     97       125  243.0000\n",
      "20        60    108       131  364.2000\n",
      "21        45    100       119  282.0000\n",
      "22        60    130       101  300.0000\n",
      "23        45    105       132  246.0000\n",
      "24        60    102       126  334.5000\n",
      "25        60    100       120  250.0000\n",
      "26        60     92       118  241.0000\n",
      "27        60    103       132  304.4625\n"
     ]
    }
   ],
   "execution_count": 15
  },
  {
   "metadata": {
    "ExecuteTime": {
     "end_time": "2025-09-09T14:57:12.334067Z",
     "start_time": "2025-09-09T14:57:12.329657Z"
    }
   },
   "cell_type": "code",
   "source": [
    "# Mean = the average value (the sum of all values divided by number of values).\n",
    "# Median = the value in the middle, after you have sorted all values ascending.\n",
    "# Mode = the value that appears most frequently."
   ],
   "id": "e3fba8d60ea3549f",
   "outputs": [],
   "execution_count": 16
  }
 ],
 "metadata": {
  "kernelspec": {
   "display_name": "Python 3",
   "language": "python",
   "name": "python3"
  },
  "language_info": {
   "codemirror_mode": {
    "name": "ipython",
    "version": 2
   },
   "file_extension": ".py",
   "mimetype": "text/x-python",
   "name": "python",
   "nbconvert_exporter": "python",
   "pygments_lexer": "ipython2",
   "version": "2.7.6"
  }
 },
 "nbformat": 4,
 "nbformat_minor": 5
}
