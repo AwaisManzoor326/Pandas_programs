{
 "cells": [
  {
   "cell_type": "code",
   "id": "initial_id",
   "metadata": {
    "collapsed": true,
    "ExecuteTime": {
     "end_time": "2025-09-08T15:31:19.446082Z",
     "start_time": "2025-09-08T15:31:15.817217Z"
    }
   },
   "source": "import pandas as pd",
   "outputs": [],
   "execution_count": 1
  },
  {
   "metadata": {
    "ExecuteTime": {
     "end_time": "2025-09-08T15:34:27.148670Z",
     "start_time": "2025-09-08T15:34:27.116331Z"
    }
   },
   "cell_type": "code",
   "source": [
    "dataSet = {\n",
    "    'cars' : ['BMW', 'TESLA', 'Toyota', 'ELANTRA'],\n",
    "    'passings' : [3, 7, 2, 6]\n",
    "}\n",
    "\n",
    "myvar = pd.DataFrame(dataSet)\n",
    "print(myvar)"
   ],
   "id": "ac0391cd602e9409",
   "outputs": [
    {
     "name": "stdout",
     "output_type": "stream",
     "text": [
      "      cars  passings\n",
      "0      BMW         3\n",
      "1    TESLA         7\n",
      "2   Toyota         2\n",
      "3  ELANTRA         6\n"
     ]
    }
   ],
   "execution_count": 4
  }
 ],
 "metadata": {
  "kernelspec": {
   "display_name": "Python 3",
   "language": "python",
   "name": "python3"
  },
  "language_info": {
   "codemirror_mode": {
    "name": "ipython",
    "version": 2
   },
   "file_extension": ".py",
   "mimetype": "text/x-python",
   "name": "python",
   "nbconvert_exporter": "python",
   "pygments_lexer": "ipython2",
   "version": "2.7.6"
  }
 },
 "nbformat": 4,
 "nbformat_minor": 5
}
